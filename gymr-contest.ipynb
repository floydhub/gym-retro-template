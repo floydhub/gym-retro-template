{
 "cells": [
  {
   "cell_type": "markdown",
   "metadata": {},
   "source": [
    "# Gym Retro\n",
    "\n",
    "[Gym Retro](https://blog.openai.com/gym-retro/) is a platform for [reinforcement learning](https://en.wikipedia.org/wiki/Reinforcement_learning) research on games. It turns out that old games are a perfect fit for benchmarking and improving RL agents in a simulated environment. After two years after the beta release of [Gym](https://blog.openai.com/openai-gym-beta/), OpenAI released an extension of this amazing software by adding more game environments. The goal of the new platform is to study the ability of the agents to *generalize* between games with similar concepts but different appearances.\n",
    "\n",
    "![retro-gif](https://github.com/floydhub/gym-retro-template/raw/master/images/retro.gif)\n",
    "\n",
    "## Gym Retro Contest - Sonic The Hedgehog™\n",
    "\n",
    "[In this contest](https://blog.openai.com/retro-contest/), participants try to create the best agent for playing custom levels of the Sonic games — without having access to those levels during development. You can find more detail in this [page](https://contest.openai.com/details).\n",
    "\n",
    "As mentioned in the contest's description this is a Transfer Learning task, which means that you are free to train your agent however you'd like, however, the OpenAI Team recommend using Sonic 1, 2, and 3 & Knuckles, which are available on Steam here:\n",
    "\n",
    "- [Sonic The Hedgehog](http://store.steampowered.com/app/71113/Sonic_The_Hedgehog/)\n",
    "- [Sonic The Hedgehog 2](http://store.steampowered.com/app/71163/Sonic_The_Hedgehog_2/)\n",
    "- [Sonic 3 & Knuckles](http://store.steampowered.com/app/71162/Sonic_3___Knuckles/)\n",
    "\n",
    "In this notebook, we will show you how to use set up Gym-Retro on FloydHub.\n",
    "\n",
    "We will:\n",
    "\n",
    "- Install Gym-Retro\n",
    "- Import and load the ROMs of the games\n",
    "- Use random-policy for a couple of steps\n",
    "- Visualize the agents\n",
    "\n",
    "### Instructions\n",
    "\n",
    "- To execute a code cell, click on the cell and press `Shift + Enter` (shortcut for Run).\n",
    "- To learn more about Workspaces, check out the [Getting Started Notebook](./get_started_workspace.ipynb).\n",
    "- **Tip**: *Feel free to use this Notebook as a starting point for your own super awesome Reinforcement Learning task*.\n",
    "\n",
    "Now, let's get started! 🚀"
   ]
  },
  {
   "cell_type": "markdown",
   "metadata": {},
   "source": [
    "## Initial Setup\n",
    "\n",
    "Before running the installation steps, we have to check the python version because `gym-retro` doesn't support Python 2."
   ]
  },
  {
   "cell_type": "code",
   "execution_count": 1,
   "metadata": {},
   "outputs": [
    {
     "name": "stdout",
     "output_type": "stream",
     "text": [
      "Your python version is OK.\n"
     ]
    }
   ],
   "source": [
    "import sys\n",
    "\n",
    "if sys.version_info[0] < 3:\n",
    "    raise Exception(\"Gym Retro requires Python 3.5 or 3.6.\")\n",
    "else:\n",
    "    print('Your python version is OK.')"
   ]
  },
  {
   "cell_type": "code",
   "execution_count": 2,
   "metadata": {},
   "outputs": [
    {
     "name": "stdout",
     "output_type": "stream",
     "text": [
      "Installing deps...\n",
      "Get:1 http://storage.googleapis.com/bazel-apt stable InRelease [2450 B]\n",
      "Ign:1 http://storage.googleapis.com/bazel-apt stable InRelease\n",
      "Hit:2 https://deb.nodesource.com/node_8.x xenial InRelease\n",
      "Get:3 http://security.ubuntu.com/ubuntu xenial-security InRelease [107 kB]\n",
      "Hit:4 http://ppa.launchpad.net/git-core/ppa/ubuntu xenial InRelease\n",
      "Hit:5 http://archive.ubuntu.com/ubuntu xenial InRelease\n",
      "Get:6 http://archive.ubuntu.com/ubuntu xenial-updates InRelease [109 kB]\n",
      "Hit:7 https://packagecloud.io/github/git-lfs/ubuntu xenial InRelease\n",
      "Get:8 http://archive.ubuntu.com/ubuntu xenial-backports InRelease [107 kB]\n",
      "Fetched 325 kB in 1s (258 kB/s)\n",
      "Reading package lists... Done\n",
      "W: GPG error: http://storage.googleapis.com/bazel-apt stable InRelease: The following signatures were invalid: KEYEXPIRED 1527185977  KEYEXPIRED 1527185977  KEYEXPIRED 1527185977\n",
      "W: The repository 'http://storage.googleapis.com/bazel-apt stable InRelease' is not signed.\n",
      "N: Data from such a repository can't be authenticated and is therefore potentially dangerous to use.\n",
      "N: See apt-secure(8) manpage for repository creation and user configuration details.\n",
      "Reading package lists... Done\n",
      "Building dependency tree       \n",
      "Reading state information... Done\n",
      "lua5.1 is already the newest version (5.1.5-8ubuntu1).\n",
      "libav-tools is already the newest version (7:2.8.14-0ubuntu0.16.04.1).\n",
      "0 upgraded, 0 newly installed, 0 to remove and 151 not upgraded.\n",
      "- Done!\n"
     ]
    }
   ],
   "source": [
    "! bash install.sh"
   ]
  },
  {
   "cell_type": "markdown",
   "metadata": {},
   "source": [
    "Now we can import the dependencies."
   ]
  },
  {
   "cell_type": "code",
   "execution_count": 3,
   "metadata": {},
   "outputs": [],
   "source": [
    "%load_ext autoreload\n",
    "%autoreload 2\n",
    "\n",
    "import retro\n",
    "import os\n",
    "\n",
    "from support import save_frames_as_gif, install_games_from_rom_dir, download_and_unzip_rom_archive_from_url"
   ]
  },
  {
   "cell_type": "markdown",
   "metadata": {},
   "source": [
    "## Import and load external ROMs\n",
    "\n",
    "In the next Code Cells we will show how to load an external ROM from a dataset or downloaded from the internet. You haven't to worry about *filename or extension*, the `retro` package will perform hash matching to identify the games' ROMs.\n",
    "\n",
    "Please note that ROMs *are not included* and you must obtain them yourself. \n",
    "\n",
    "The following non-commerical ROMs are included with Gym Retro for testing purposes:\n",
    "\n",
    "- [Dekadrive](http://www.pouet.net/prod.php?which=67142) by Dekadence\n",
    "- [Automaton](https://pdroms.de/files/atari2600/automaton-minigame-compo-2003) by Derek Ledbetter\n",
    "- [Airstriker](https://pdroms.de/genesis/airstriker-v1-50-genesis-game) by Electrokinesis\n",
    "\n",
    "**WARNING**\n",
    "\n",
    "*Don't download or upload ROMs of games that you don't own, otherwise you are pirating *☠️!"
   ]
  },
  {
   "cell_type": "markdown",
   "metadata": {},
   "source": [
    "#### Available Games\n",
    "\n",
    "Let's check the games that can be imported by listing the available environments on `retro`"
   ]
  },
  {
   "cell_type": "code",
   "execution_count": 4,
   "metadata": {},
   "outputs": [
    {
     "data": {
      "text/plain": [
       "['Adventure-Atari2600',\n",
       " 'AirRaid-Atari2600',\n",
       " 'Airstriker-Genesis',\n",
       " 'Alien-Atari2600',\n",
       " 'AlienSoldier-Genesis',\n",
       " 'AlteredBeast-Genesis',\n",
       " 'Amidar-Atari2600',\n",
       " 'Assault-Atari2600',\n",
       " 'Asterix-Atari2600',\n",
       " 'Asteroids-Atari2600',\n",
       " 'Atlantis-Atari2600',\n",
       " 'BankHeist-Atari2600',\n",
       " 'BattleZone-Atari2600',\n",
       " 'BeamRider-Atari2600',\n",
       " 'Berzerk-Atari2600',\n",
       " 'BioHazardBattle-Genesis',\n",
       " 'Bowling-Atari2600',\n",
       " 'Boxing-Atari2600',\n",
       " 'Breakout-Atari2600',\n",
       " 'Carnival-Atari2600',\n",
       " 'Centipede-Atari2600',\n",
       " 'ChopperCommand-Atari2600',\n",
       " 'Columns-Genesis',\n",
       " 'ColumnsIII-Genesis',\n",
       " 'ComixZone-Genesis',\n",
       " 'CrackDown-Genesis',\n",
       " 'CrazyClimber-Atari2600',\n",
       " 'Defender-Atari2600',\n",
       " 'DemonAttack-Atari2600',\n",
       " 'DoubleDunk-Atari2600',\n",
       " 'DrRobotniksMeanBeanMachine-Genesis',\n",
       " 'DynamiteHeaddy-Genesis',\n",
       " 'Enduro-Atari2600',\n",
       " 'FatalLabyrinth-Genesis',\n",
       " 'FishingDerby-Atari2600',\n",
       " 'Flicky-Genesis',\n",
       " 'Freeway-Atari2600',\n",
       " 'Frostbite-Atari2600',\n",
       " 'GainGround-Genesis',\n",
       " 'GalaxyForceII-Genesis',\n",
       " 'GoldenAxe-Genesis',\n",
       " 'GoldenAxeIII-Genesis',\n",
       " 'Gopher-Atari2600',\n",
       " 'Gravitar-Atari2600',\n",
       " 'Hero-Atari2600',\n",
       " 'IceHockey-Atari2600',\n",
       " 'Jamesbond-Atari2600',\n",
       " 'JourneyEscape-Atari2600',\n",
       " 'Kaboom-Atari2600',\n",
       " 'Kangaroo-Atari2600',\n",
       " 'KidChameleon-Genesis',\n",
       " 'Krull-Atari2600',\n",
       " 'KungFuMaster-Atari2600',\n",
       " 'MontezumaRevenge-Atari2600',\n",
       " 'MsPacman-Atari2600',\n",
       " 'NameThisGame-Atari2600',\n",
       " 'Phoenix-Atari2600',\n",
       " 'Pitfall-Atari2600',\n",
       " 'Pong-Atari2600',\n",
       " 'Pooyan-Atari2600',\n",
       " 'PrivateEye-Atari2600',\n",
       " 'Qbert-Atari2600',\n",
       " 'RevengeOfShinobi-Genesis',\n",
       " 'Ristar-Genesis',\n",
       " 'Riverraid-Atari2600',\n",
       " 'RoadRunner-Atari2600',\n",
       " 'Robotank-Atari2600',\n",
       " 'Seaquest-Atari2600',\n",
       " 'ShadowDancerTheSecretOfShinobi-Genesis',\n",
       " 'ShinobiIIIReturnOfTheNinjaMaster-Genesis',\n",
       " 'Skiing-Atari2600',\n",
       " 'Solaris-Atari2600',\n",
       " 'SonicAndKnuckles3-Genesis',\n",
       " 'SonicTheHedgehog-Genesis',\n",
       " 'SonicTheHedgehog2-Genesis',\n",
       " 'SpaceHarrierII-Genesis',\n",
       " 'SpaceInvaders-Atari2600',\n",
       " 'StarGunner-Atari2600',\n",
       " 'StreetsOfRage-Genesis',\n",
       " 'StreetsOfRage2-Genesis',\n",
       " 'StreetsOfRage3-Genesis',\n",
       " 'SuperThunderBlade-Genesis',\n",
       " 'Tennis-Atari2600',\n",
       " 'TimePilot-Atari2600',\n",
       " 'Tutankham-Atari2600',\n",
       " 'UpNDown-Atari2600',\n",
       " 'Vectorman-Genesis',\n",
       " 'Vectorman2-Genesis',\n",
       " 'Venture-Atari2600',\n",
       " 'VideoPinball-Atari2600',\n",
       " 'WizardOfWor-Atari2600',\n",
       " 'YarsRevenge-Atari2600',\n",
       " 'Zaxxon-Atari2600']"
      ]
     },
     "execution_count": 4,
     "metadata": {},
     "output_type": "execute_result"
    }
   ],
   "source": [
    "sorted(retro.data.list_games())"
   ]
  },
  {
   "cell_type": "markdown",
   "metadata": {},
   "source": [
    "#### Importing ROMs"
   ]
  },
  {
   "cell_type": "markdown",
   "metadata": {},
   "source": [
    "##### - Loading ROMs from Dataset"
   ]
  },
  {
   "cell_type": "code",
   "execution_count": 6,
   "metadata": {},
   "outputs": [
    {
     "name": "stdout",
     "output_type": "stream",
     "text": [
      "Importing SonicAndKnuckles3-Genesis\n",
      "Importing SonicTheHedgehog-Genesis\n",
      "Importing SonicTheHedgehog2-Genesis\n",
      "Imported 3 games\n"
     ]
    }
   ],
   "source": [
    "DS_PATH = '' # edit with your path/to/rom\n",
    "\n",
    "install_games_from_rom_dir(DS_PATH)"
   ]
  },
  {
   "cell_type": "markdown",
   "metadata": {},
   "source": [
    "##### - Loading ROMs from URL"
   ]
  },
  {
   "cell_type": "code",
   "execution_count": 5,
   "metadata": {},
   "outputs": [
    {
     "name": "stderr",
     "output_type": "stream",
     "text": [
      "3694592it [00:01, 2189016.72it/s]                             \n",
      "100%|██████████| 5767168/5767168 [00:00<00:00, 99355772.84it/s]"
     ]
    },
    {
     "name": "stdout",
     "output_type": "stream",
     "text": [
      "Importing SonicAndKnuckles3-Genesis\n",
      "Importing SonicAndKnuckles3-Genesis\n",
      "Importing SonicTheHedgehog-Genesis\n",
      "Importing SonicTheHedgehog2-Genesis\n",
      "Imported 4 games\n"
     ]
    },
    {
     "name": "stderr",
     "output_type": "stream",
     "text": [
      "\n"
     ]
    }
   ],
   "source": [
    "URL = '' # edit with your https://URL/of/your/ROM/zipfile\n",
    "\n",
    "download_and_unzip_rom_archive_from_url(URL, 'roms/')\n",
    "install_games_from_rom_dir('roms/')"
   ]
  },
  {
   "cell_type": "markdown",
   "metadata": {},
   "source": [
    "#### Available Levels /States"
   ]
  },
  {
   "cell_type": "markdown",
   "metadata": {},
   "source": [
    "You can get all the availables levels / states from the widget below:"
   ]
  },
  {
   "cell_type": "code",
   "execution_count": 6,
   "metadata": {},
   "outputs": [
    {
     "data": {
      "application/vnd.jupyter.widget-view+json": {
       "model_id": "2b1bf4f1e4024cdd8e057926300adfbb",
       "version_major": 2,
       "version_minor": 0
      },
      "text/plain": [
       "interactive(children=(Textarea(value='', description='GAME', placeholder='Type your GAME here'), Button(descri…"
      ]
     },
     "metadata": {},
     "output_type": "display_data"
    }
   ],
   "source": [
    "from ipywidgets import interact_manual\n",
    "from ipywidgets import widgets\n",
    "\n",
    "def get_available_state(GAME):\n",
    "    print('Available states for', GAME, 'game')\n",
    "    print('='*100)\n",
    "    if GAME in retro.list_games():\n",
    "        game_path = os.path.join(retro.get_game_path(GAME))\n",
    "\n",
    "        for state in os.listdir(game_path):\n",
    "            if state.endswith(\".state\"):\n",
    "                print(state)\n",
    "    else:\n",
    "        print(\"No States available for\", GAME, \"- Please check if it's available in retro.list_games() list\")\n",
    "    \n",
    "\n",
    "interact_manual(get_available_state, GAME=widgets.Textarea(placeholder='Type your GAME here'));"
   ]
  },
  {
   "cell_type": "markdown",
   "metadata": {},
   "source": [
    "## A random walk"
   ]
  },
  {
   "cell_type": "markdown",
   "metadata": {},
   "source": [
    "In the next steps will load the `MetropolisZone` level from **SonicTheHedgehog2** game and make a random walk in the environment for 300 steps."
   ]
  },
  {
   "cell_type": "code",
   "execution_count": 7,
   "metadata": {},
   "outputs": [],
   "source": [
    "# Loading the level\n",
    "env = retro.make(\n",
    "    game='SonicTheHedgehog2-Genesis',  # Game\n",
    "    state='MetropolisZone.Act1.state',  # Level / State\n",
    "    record=True)  # Record the Run"
   ]
  },
  {
   "cell_type": "code",
   "execution_count": 8,
   "metadata": {},
   "outputs": [
    {
     "data": {
      "image/png": "[encoded data removed]",
      "text/plain": [
       "<Figure size 432x288 with 1 Axes>"
      ]
     },
     "metadata": {},
     "output_type": "display_data"
    }
   ],
   "source": [
    "# Frame list collector\n",
    "frames = []\n",
    "STEPS = 300\n",
    "\n",
    "observation = env.reset()\n",
    "for i in range(STEPS): # Take random actions for # STEPS\n",
    "    random_action = env.action_space.sample()\n",
    "    observation, reward, done, info = env.step( random_action )\n",
    "    frames.append(observation) # collecting observation\n",
    "    \n",
    "    if done: # If the env is done make sure you reset it\n",
    "        observation = env.reset()\n",
    "        frames.append(observation)\n",
    "        \n",
    "# Save the run\n",
    "save_frames_as_gif(frames, filename='sonic2-metropolis-act1-300-steps.gif')"
   ]
  },
  {
   "cell_type": "markdown",
   "metadata": {},
   "source": [
    "## Visualize the results\n",
    "\n",
    "You can now visualize the run by opening the gif file from the `File Tab Viewer` at the left."
   ]
  },
  {
   "cell_type": "markdown",
   "metadata": {},
   "source": [
    "![visual](https://github.com/floydhub/gym-retro-template/raw/master/images/visual.gif)"
   ]
  },
  {
   "cell_type": "markdown",
   "metadata": {},
   "source": [
    "## It's your turn\n",
    "\n",
    "#### Baseline\n",
    "OpenAI provides usefull baseline implementations that you can tweak in the [retro-baselines](https://github.com/openai/retro-baselines) repo on GitHub. You can use these as starting points for making fancier algorithms or just for tweaking parameters on the existing ones.\n",
    "\n",
    "#### Running Multiple Gym-Retro Environments\n",
    "This environment comes with the `retrowrapper` installed, in this way you can [run multiple Gym-Retro Environments](https://mikelyons.org/2018/05/22/Multiple-Retro-Environments.html). To use it, just instantiate it like you would a normal retro environment, and then treat it exactly the same, but now you can have multiples in a single python process. Magic! For more see the [repo](https://github.com/MaxStrange/retrowrapper). \n",
    "\n",
    "```\n",
    "import retrowrapper\n",
    "\n",
    "env1 = retrowrapper.RetroWrapper(\n",
    "    game='SonicTheHedgehog2-Genesis',\n",
    "    state='MetropolisZone.Act1' \n",
    ")\n",
    "env2 = retrowrapper.RetroWrapper( \n",
    "    game='SonicTheHedgehog2-Genesis', \n",
    "    state='MetropolisZone.Act2' \n",
    ")\n",
    "```"
   ]
  },
  {
   "cell_type": "markdown",
   "metadata": {},
   "source": [
    "##### That's all folks - don't forget to shutdown your workspace once you're done 🙂"
   ]
  }
 ],
 "metadata": {
  "kernelspec": {
   "display_name": "Python 3",
   "language": "python",
   "name": "python3"
  },
  "language_info": {
   "codemirror_mode": {
    "name": "ipython",
    "version": 3
   },
   "file_extension": ".py",
   "mimetype": "text/x-python",
   "name": "python",
   "nbconvert_exporter": "python",
   "pygments_lexer": "ipython3",
   "version": "3.6.1"
  }
 },
 "nbformat": 4,
 "nbformat_minor": 2
}
